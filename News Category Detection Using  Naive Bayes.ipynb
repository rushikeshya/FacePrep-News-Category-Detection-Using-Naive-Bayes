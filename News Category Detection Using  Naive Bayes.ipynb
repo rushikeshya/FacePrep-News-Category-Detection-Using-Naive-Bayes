{
 "cells": [
  {
   "cell_type": "markdown",
   "id": "d0c06315",
   "metadata": {},
   "source": [
    "# News Category Detection Using | Naive Bayes"
   ]
  },
  {
   "cell_type": "markdown",
   "id": "1e91bf86",
   "metadata": {},
   "source": [
    "# Importing Basic Libraries"
   ]
  },
  {
   "cell_type": "code",
   "execution_count": 1,
   "id": "e8512334",
   "metadata": {},
   "outputs": [],
   "source": [
    "import os\n",
    "import pandas as pd"
   ]
  },
  {
   "cell_type": "markdown",
   "id": "19f2e381",
   "metadata": {},
   "source": [
    "# Importing Datasets"
   ]
  },
  {
   "cell_type": "code",
   "execution_count": 2,
   "id": "12d0726e",
   "metadata": {},
   "outputs": [],
   "source": [
    "listbussi = []\n",
    "for i in os.listdir(\"C:/Users/rushi/OneDrive/Desktop/Daily Machine Learning Algorithm Prectice/naive bayes/business\"):\n",
    "    with open(\"C:/Users/rushi/OneDrive/Desktop/Daily Machine Learning Algorithm Prectice/naive bayes/business/\"+i) as f:\n",
    "        listbussi.append(f.read().replace('\\n',' '))\n",
    "\n",
    "listenet = []\n",
    "for i in os.listdir(\"C:/Users/rushi/OneDrive/Desktop/Daily Machine Learning Algorithm Prectice/naive bayes/entertainment\"):\n",
    "    with open(\"C:/Users/rushi/OneDrive/Desktop/Daily Machine Learning Algorithm Prectice/naive bayes/entertainment/\"+i) as f:\n",
    "        listenet.append(f.read().replace('\\n',' '))\n",
    "\n",
    "listfood = []\n",
    "for i in os.listdir(\"C:/Users/rushi/OneDrive/Desktop/Daily Machine Learning Algorithm Prectice/naive bayes/food\"):\n",
    "    with open(\"C:/Users/rushi/OneDrive/Desktop/Daily Machine Learning Algorithm Prectice/naive bayes/food/\"+i,'r', encoding=\"utf8\") as f:\n",
    "        listfood.append(f.read().replace('\\n',' '))\n",
    "\n",
    "listgrap = []\n",
    "for i in os.listdir(\"C:/Users/rushi/OneDrive/Desktop/Daily Machine Learning Algorithm Prectice/naive bayes/graphics\"):\n",
    "    with open(\"C:/Users/rushi/OneDrive/Desktop/Daily Machine Learning Algorithm Prectice/naive bayes/graphics/\"+i,'r', encoding=\"utf8\") as f:\n",
    "        listgrap.append(f.read().replace('\\n',' '))\n",
    "\n",
    "listhis = []\n",
    "for i in os.listdir(\"C:/Users/rushi/OneDrive/Desktop/Daily Machine Learning Algorithm Prectice/naive bayes/historical\"):\n",
    "    with open(\"C:/Users/rushi/OneDrive/Desktop/Daily Machine Learning Algorithm Prectice/naive bayes/historical/\"+i,'r', encoding=\"utf8\") as f:\n",
    "        listhis.append(f.read().replace('\\n',' '))\n",
    "        \n",
    "listmedi = []\n",
    "for i in os.listdir(\"C:/Users/rushi/OneDrive/Desktop/Daily Machine Learning Algorithm Prectice/naive bayes/medical\"):\n",
    "    with open(\"C:/Users/rushi/OneDrive/Desktop/Daily Machine Learning Algorithm Prectice/naive bayes/medical/\"+i,'r', encoding=\"utf8\") as f:\n",
    "        listmedi.append(f.read().replace('\\n',' '))\n",
    "        \n",
    "listpoli = []\n",
    "for i in os.listdir(\"C:/Users/rushi/OneDrive/Desktop/Daily Machine Learning Algorithm Prectice/naive bayes/politics\"):\n",
    "    with open(\"C:/Users/rushi/OneDrive/Desktop/Daily Machine Learning Algorithm Prectice/naive bayes/politics/\"+i,'r', encoding=\"utf8\") as f:\n",
    "        listpoli.append(f.read().replace('\\n',' '))\n",
    "\n",
    "listspace = []\n",
    "for i in os.listdir(\"C:/Users/rushi/OneDrive/Desktop/Daily Machine Learning Algorithm Prectice/naive bayes/space\"):\n",
    "    with open(\"C:/Users/rushi/OneDrive/Desktop/Daily Machine Learning Algorithm Prectice/naive bayes/space/\"+i,'r', encoding=\"utf8\") as f:\n",
    "        listspace.append(f.read().replace('\\n',' '))\n",
    "\n",
    "listsport = []\n",
    "for i in os.listdir(\"C:/Users/rushi/OneDrive/Desktop/Daily Machine Learning Algorithm Prectice/naive bayes/sport\"):\n",
    "    with open(\"C:/Users/rushi/OneDrive/Desktop/Daily Machine Learning Algorithm Prectice/naive bayes/sport/\"+i,'r', encoding=\"utf8\") as f:\n",
    "        listsport.append(f.read().replace('\\n',' '))\n",
    "\n",
    "listtech = []\n",
    "for i in os.listdir(\"C:/Users/rushi/OneDrive/Desktop/Daily Machine Learning Algorithm Prectice/naive bayes/technologie\"):\n",
    "    with open(\"C:/Users/rushi/OneDrive/Desktop/Daily Machine Learning Algorithm Prectice/naive bayes/technologie/\"+i,'r', encoding=\"utf8\") as f:\n",
    "        listtech.append(f.read().replace('\\n',' '))"
   ]
  },
  {
   "cell_type": "markdown",
   "id": "f8b27fe9",
   "metadata": {},
   "source": [
    "# Creating DataFrame"
   ]
  },
  {
   "cell_type": "code",
   "execution_count": 3,
   "id": "477db72d",
   "metadata": {},
   "outputs": [],
   "source": [
    "df_business = pd.DataFrame(listbussi)\n",
    "df_business['class'] = 'business'\n",
    "\n",
    "df_entertainment = pd.DataFrame(listenet)\n",
    "df_entertainment['class'] = 'entertainment'\n",
    "\n",
    "df_food = pd.DataFrame(listfood)\n",
    "df_food['class'] = 'food'\n",
    "\n",
    "df_graphics = pd.DataFrame(listgrap)\n",
    "df_graphics['class'] = 'graphics'\n",
    "\n",
    "df_historical = pd.DataFrame(listhis)\n",
    "df_historical['class'] = 'historical'\n",
    "\n",
    "df_medical = pd.DataFrame(listmedi)\n",
    "df_medical['class'] = 'medical'\n",
    "\n",
    "df_politics = pd.DataFrame(listpoli)\n",
    "df_politics['class'] = 'politics'\n",
    "\n",
    "df_space = pd.DataFrame(listspace)\n",
    "df_space['class'] = 'space'\n",
    "\n",
    "df_sport = pd.DataFrame(listsport)\n",
    "df_sport['class'] = 'sport'\n",
    "\n",
    "df_technologie = pd.DataFrame(listtech)\n",
    "df_technologie['class'] = 'technologie'"
   ]
  },
  {
   "cell_type": "markdown",
   "id": "8ec4f255",
   "metadata": {},
   "source": [
    "# Concatenate All DataFrames"
   ]
  },
  {
   "cell_type": "code",
   "execution_count": 4,
   "id": "a7bf54aa",
   "metadata": {},
   "outputs": [],
   "source": [
    "df = pd.concat([df_business, df_entertainment, df_food, df_graphics, df_historical, df_medical, df_politics, df_space, df_sport, df_technologie])"
   ]
  },
  {
   "cell_type": "code",
   "execution_count": 5,
   "id": "5e024867",
   "metadata": {},
   "outputs": [
    {
     "data": {
      "text/html": [
       "<div>\n",
       "<style scoped>\n",
       "    .dataframe tbody tr th:only-of-type {\n",
       "        vertical-align: middle;\n",
       "    }\n",
       "\n",
       "    .dataframe tbody tr th {\n",
       "        vertical-align: top;\n",
       "    }\n",
       "\n",
       "    .dataframe thead th {\n",
       "        text-align: right;\n",
       "    }\n",
       "</style>\n",
       "<table border=\"1\" class=\"dataframe\">\n",
       "  <thead>\n",
       "    <tr style=\"text-align: right;\">\n",
       "      <th></th>\n",
       "      <th>0</th>\n",
       "      <th>class</th>\n",
       "    </tr>\n",
       "  </thead>\n",
       "  <tbody>\n",
       "    <tr>\n",
       "      <th>0</th>\n",
       "      <td>Lufthansa flies back to profit  German airline...</td>\n",
       "      <td>business</td>\n",
       "    </tr>\n",
       "    <tr>\n",
       "      <th>1</th>\n",
       "      <td>Winn-Dixie files for bankruptcy  US supermarke...</td>\n",
       "      <td>business</td>\n",
       "    </tr>\n",
       "    <tr>\n",
       "      <th>2</th>\n",
       "      <td>US economy still growing says Fed  Most areas ...</td>\n",
       "      <td>business</td>\n",
       "    </tr>\n",
       "    <tr>\n",
       "      <th>3</th>\n",
       "      <td>Saab to build Cadillacs in Sweden  General Mot...</td>\n",
       "      <td>business</td>\n",
       "    </tr>\n",
       "    <tr>\n",
       "      <th>4</th>\n",
       "      <td>Bank voted 8-1 for no rate change  The decisio...</td>\n",
       "      <td>business</td>\n",
       "    </tr>\n",
       "  </tbody>\n",
       "</table>\n",
       "</div>"
      ],
      "text/plain": [
       "                                                   0     class\n",
       "0  Lufthansa flies back to profit  German airline...  business\n",
       "1  Winn-Dixie files for bankruptcy  US supermarke...  business\n",
       "2  US economy still growing says Fed  Most areas ...  business\n",
       "3  Saab to build Cadillacs in Sweden  General Mot...  business\n",
       "4  Bank voted 8-1 for no rate change  The decisio...  business"
      ]
     },
     "execution_count": 5,
     "metadata": {},
     "output_type": "execute_result"
    }
   ],
   "source": [
    "df.head()"
   ]
  },
  {
   "cell_type": "code",
   "execution_count": 6,
   "id": "a7b11562",
   "metadata": {},
   "outputs": [
    {
     "data": {
      "text/html": [
       "<div>\n",
       "<style scoped>\n",
       "    .dataframe tbody tr th:only-of-type {\n",
       "        vertical-align: middle;\n",
       "    }\n",
       "\n",
       "    .dataframe tbody tr th {\n",
       "        vertical-align: top;\n",
       "    }\n",
       "\n",
       "    .dataframe thead th {\n",
       "        text-align: right;\n",
       "    }\n",
       "</style>\n",
       "<table border=\"1\" class=\"dataframe\">\n",
       "  <thead>\n",
       "    <tr style=\"text-align: right;\">\n",
       "      <th></th>\n",
       "      <th>0</th>\n",
       "      <th>class</th>\n",
       "    </tr>\n",
       "  </thead>\n",
       "  <tbody>\n",
       "    <tr>\n",
       "      <th>95</th>\n",
       "      <td>Mobile games come of age  The BBC News website...</td>\n",
       "      <td>technologie</td>\n",
       "    </tr>\n",
       "    <tr>\n",
       "      <th>96</th>\n",
       "      <td>California sets fines for spyware  The makers ...</td>\n",
       "      <td>technologie</td>\n",
       "    </tr>\n",
       "    <tr>\n",
       "      <th>97</th>\n",
       "      <td>Web helps collect aid donations  The web is he...</td>\n",
       "      <td>technologie</td>\n",
       "    </tr>\n",
       "    <tr>\n",
       "      <th>98</th>\n",
       "      <td>Mobiles rack up 20 years of use  Mobile phones...</td>\n",
       "      <td>technologie</td>\n",
       "    </tr>\n",
       "    <tr>\n",
       "      <th>99</th>\n",
       "      <td>Blogs take on the mainstream  Web logs or blog...</td>\n",
       "      <td>technologie</td>\n",
       "    </tr>\n",
       "  </tbody>\n",
       "</table>\n",
       "</div>"
      ],
      "text/plain": [
       "                                                    0        class\n",
       "95  Mobile games come of age  The BBC News website...  technologie\n",
       "96  California sets fines for spyware  The makers ...  technologie\n",
       "97  Web helps collect aid donations  The web is he...  technologie\n",
       "98  Mobiles rack up 20 years of use  Mobile phones...  technologie\n",
       "99  Blogs take on the mainstream  Web logs or blog...  technologie"
      ]
     },
     "execution_count": 6,
     "metadata": {},
     "output_type": "execute_result"
    }
   ],
   "source": [
    "df.tail()"
   ]
  },
  {
   "cell_type": "code",
   "execution_count": 7,
   "id": "9075b9c5",
   "metadata": {},
   "outputs": [
    {
     "data": {
      "text/plain": [
       "(1000, 2)"
      ]
     },
     "execution_count": 7,
     "metadata": {},
     "output_type": "execute_result"
    }
   ],
   "source": [
    "df.shape"
   ]
  },
  {
   "cell_type": "code",
   "execution_count": 8,
   "id": "2ec7c93e",
   "metadata": {},
   "outputs": [
    {
     "data": {
      "text/plain": [
       "(100, 2)"
      ]
     },
     "execution_count": 8,
     "metadata": {},
     "output_type": "execute_result"
    }
   ],
   "source": [
    "df[df['class'] == 'business'].shape"
   ]
  },
  {
   "cell_type": "code",
   "execution_count": 9,
   "id": "a64ce505",
   "metadata": {},
   "outputs": [],
   "source": [
    "x = df[0]\n",
    "y = df['class']"
   ]
  },
  {
   "cell_type": "markdown",
   "id": "5c6d5548",
   "metadata": {},
   "source": [
    "# Splitting into training and testing Data"
   ]
  },
  {
   "cell_type": "code",
   "execution_count": 10,
   "id": "591a4dbe",
   "metadata": {},
   "outputs": [],
   "source": [
    "from sklearn.model_selection import train_test_split\n",
    "x, xtest, y, ytest = train_test_split(x,y, stratify=y, test_size=0.25, random_state=42)"
   ]
  },
  {
   "cell_type": "code",
   "execution_count": 11,
   "id": "7cdbd07b",
   "metadata": {},
   "outputs": [
    {
     "name": "stdout",
     "output_type": "stream",
     "text": [
      "x: 750\n",
      "xtest: 250\n",
      "y: 750\n",
      "ytest: 250\n"
     ]
    }
   ],
   "source": [
    "print(\"x:\",len(x))\n",
    "print(\"xtest:\",len(xtest))\n",
    "print(\"y:\",len(y))\n",
    "print(\"ytest:\",len(ytest))"
   ]
  },
  {
   "cell_type": "code",
   "execution_count": 12,
   "id": "56614c3b",
   "metadata": {},
   "outputs": [
    {
     "data": {
      "text/plain": [
       "28          space\n",
       "19           food\n",
       "14     historical\n",
       "32       graphics\n",
       "7        business\n",
       "         ...     \n",
       "20           food\n",
       "46    technologie\n",
       "31       graphics\n",
       "82       graphics\n",
       "61       graphics\n",
       "Name: class, Length: 750, dtype: object"
      ]
     },
     "execution_count": 12,
     "metadata": {},
     "output_type": "execute_result"
    }
   ],
   "source": [
    "y"
   ]
  },
  {
   "cell_type": "markdown",
   "id": "cf260022",
   "metadata": {},
   "source": [
    "# Vectorize text reviews to numbers"
   ]
  },
  {
   "cell_type": "code",
   "execution_count": 13,
   "id": "ca63d993",
   "metadata": {},
   "outputs": [],
   "source": [
    "from sklearn.feature_extraction.text import CountVectorizer\n",
    "vec = CountVectorizer(stop_words='english')\n",
    "x = vec.fit_transform(x).toarray()\n",
    "xtest = vec.transform(xtest).toarray()"
   ]
  },
  {
   "cell_type": "code",
   "execution_count": 14,
   "id": "0fe63aa8",
   "metadata": {},
   "outputs": [
    {
     "data": {
      "text/plain": [
       "array([[0, 0, 0, ..., 0, 0, 0],\n",
       "       [0, 0, 0, ..., 0, 0, 0],\n",
       "       [0, 0, 0, ..., 0, 0, 0],\n",
       "       ...,\n",
       "       [0, 0, 0, ..., 0, 0, 0],\n",
       "       [0, 0, 0, ..., 0, 0, 0],\n",
       "       [0, 0, 0, ..., 0, 0, 0]], dtype=int64)"
      ]
     },
     "execution_count": 14,
     "metadata": {},
     "output_type": "execute_result"
    }
   ],
   "source": [
    "x"
   ]
  },
  {
   "cell_type": "markdown",
   "id": "4faff85b",
   "metadata": {},
   "source": [
    "# Training"
   ]
  },
  {
   "cell_type": "code",
   "execution_count": 15,
   "id": "6e1f1131",
   "metadata": {},
   "outputs": [
    {
     "data": {
      "text/plain": [
       "MultinomialNB()"
      ]
     },
     "execution_count": 15,
     "metadata": {},
     "output_type": "execute_result"
    }
   ],
   "source": [
    "from sklearn.naive_bayes import MultinomialNB\n",
    "\n",
    "model = MultinomialNB()\n",
    "model.fit(x, y)"
   ]
  },
  {
   "cell_type": "markdown",
   "id": "e7d17305",
   "metadata": {},
   "source": [
    "# Accuracy of Model"
   ]
  },
  {
   "cell_type": "code",
   "execution_count": 16,
   "id": "a9020bfe",
   "metadata": {},
   "outputs": [
    {
     "name": "stdout",
     "output_type": "stream",
     "text": [
      "Accuracy of Model: 97.2\n"
     ]
    }
   ],
   "source": [
    "print(\"Accuracy of Model:\",model.score(xtest,ytest)*100)"
   ]
  },
  {
   "cell_type": "markdown",
   "id": "e65930c2",
   "metadata": {},
   "source": [
    "# Predicting Category "
   ]
  },
  {
   "cell_type": "code",
   "execution_count": 17,
   "id": "866a2b4e",
   "metadata": {},
   "outputs": [
    {
     "data": {
      "text/plain": [
       "array(['business'], dtype='<U13')"
      ]
     },
     "execution_count": 17,
     "metadata": {},
     "output_type": "execute_result"
    }
   ],
   "source": [
    "model.predict(vec.transform(['Lufthansa flies back to profit German']))"
   ]
  },
  {
   "cell_type": "code",
   "execution_count": 18,
   "id": "1413ddc4",
   "metadata": {},
   "outputs": [
    {
     "data": {
      "text/plain": [
       "array(['technologie'], dtype='<U13')"
      ]
     },
     "execution_count": 18,
     "metadata": {},
     "output_type": "execute_result"
    }
   ],
   "source": [
    "model.predict(vec.transform(['Mobile games come of age The BBC News']))"
   ]
  },
  {
   "cell_type": "markdown",
   "id": "ab9fc714",
   "metadata": {},
   "source": [
    "# Thank You"
   ]
  }
 ],
 "metadata": {
  "kernelspec": {
   "display_name": "Python 3 (ipykernel)",
   "language": "python",
   "name": "python3"
  },
  "language_info": {
   "codemirror_mode": {
    "name": "ipython",
    "version": 3
   },
   "file_extension": ".py",
   "mimetype": "text/x-python",
   "name": "python",
   "nbconvert_exporter": "python",
   "pygments_lexer": "ipython3",
   "version": "3.9.12"
  }
 },
 "nbformat": 4,
 "nbformat_minor": 5
}
